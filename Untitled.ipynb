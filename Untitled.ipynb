{
 "cells": [
  {
   "cell_type": "code",
   "execution_count": 17,
   "id": "e8a711ff",
   "metadata": {
    "jupyter": {
     "source_hidden": true
    }
   },
   "outputs": [],
   "source": [
    "import cv2\n",
    "from glob import glob\n",
    "\n",
    "path_imgs = glob('/datasets/msc/UFRGS_CELL/train/imgs/*')\n",
    "\n",
    "for path in path_imgs:\n",
    "    img = cv2.imread(path)\n",
    "    cv2.imwrite(path.split('.jpg')[0].split('.png')[0]+'.jpg', img)"
   ]
  },
  {
   "cell_type": "code",
   "execution_count": 12,
   "id": "ad3370f0",
   "metadata": {},
   "outputs": [
    {
     "name": "stdout",
     "output_type": "stream",
     "text": [
      "exp_L1.jpg\n",
      "exp_LJ12.jpg\n"
     ]
    }
   ],
   "source": [
    "import os\n",
    "images = os.listdir('/datasets/msc/UFRGS_CELL/test/imgs')\n",
    "anns = os.listdir('/datasets/msc/UFRGS_CELL/test/annotations/xml_rotdet')\n",
    "\n",
    "for img in images:\n",
    "    if img.split('.jpg')[0]+'.xml' not in anns:\n",
    "        print(img)"
   ]
  },
  {
   "cell_type": "code",
   "execution_count": 18,
   "id": "54bda7e0",
   "metadata": {},
   "outputs": [],
   "source": [
    "!rm /datasets/msc/UFRGS_CELL/train/imgs/*.png"
   ]
  },
  {
   "cell_type": "code",
   "execution_count": 13,
   "id": "8bed332a",
   "metadata": {},
   "outputs": [
    {
     "name": "stdout",
     "output_type": "stream",
     "text": [
      ".ipynb_checkpoints\n"
     ]
    }
   ],
   "source": [
    "for ann in anns:\n",
    "    if ann.split('.xml')[0]+'.jpg' not in images:\n",
    "        print(ann)"
   ]
  },
  {
   "cell_type": "code",
   "execution_count": 14,
   "id": "2f7d8ec7",
   "metadata": {},
   "outputs": [
    {
     "data": {
      "text/plain": [
       "25"
      ]
     },
     "execution_count": 14,
     "metadata": {},
     "output_type": "execute_result"
    }
   ],
   "source": [
    "len(os.listdir('/datasets/msc/UFRGS_CELL/test/annotations/xml_rotdet'))"
   ]
  },
  {
   "cell_type": "code",
   "execution_count": null,
   "id": "b2bb7b93",
   "metadata": {
    "collapsed": true,
    "jupyter": {
     "outputs_hidden": true
    }
   },
   "outputs": [
    {
     "name": "stdout",
     "output_type": "stream",
     "text": [
      "/workdir/msc/RotationDetection/output/summary\n",
      "TensorBoard 1.15.0 at http://pepper-HP-Z8-G4-Workstation:6006/ (Press CTRL+C to quit)\n",
      "W0630 23:16:30.959188 140611189679872 plugin_event_accumulator.py:294] Found more than one graph event per run, or there was a metagraph containing a graph_def, as well as one or more graph events.  Overwriting the graph with the newest event.\n",
      "W0630 23:16:30.965860 140611189679872 plugin_event_accumulator.py:302] Found more than one metagraph event per run. Overwriting the metagraph with the newest event.\n",
      "W0630 23:16:30.981603 140611189679872 plugin_event_accumulator.py:294] Found more than one graph event per run, or there was a metagraph containing a graph_def, as well as one or more graph events.  Overwriting the graph with the newest event.\n",
      "W0630 23:16:30.985591 140611189679872 plugin_event_accumulator.py:302] Found more than one metagraph event per run. Overwriting the metagraph with the newest event.\n",
      "W0630 23:16:32.646957 140611189679872 plugin_event_accumulator.py:294] Found more than one graph event per run, or there was a metagraph containing a graph_def, as well as one or more graph events.  Overwriting the graph with the newest event.\n",
      "W0630 23:16:32.653475 140611189679872 plugin_event_accumulator.py:302] Found more than one metagraph event per run. Overwriting the metagraph with the newest event.\n",
      "W0630 23:16:32.674448 140611189679872 plugin_event_accumulator.py:294] Found more than one graph event per run, or there was a metagraph containing a graph_def, as well as one or more graph events.  Overwriting the graph with the newest event.\n",
      "W0630 23:16:32.677792 140611189679872 plugin_event_accumulator.py:302] Found more than one metagraph event per run. Overwriting the metagraph with the newest event.\n",
      "W0630 23:16:33.500241 140611189679872 plugin_event_accumulator.py:294] Found more than one graph event per run, or there was a metagraph containing a graph_def, as well as one or more graph events.  Overwriting the graph with the newest event.\n",
      "W0630 23:16:33.507524 140611189679872 plugin_event_accumulator.py:302] Found more than one metagraph event per run. Overwriting the metagraph with the newest event.\n",
      "W0630 23:16:33.518707 140611189679872 plugin_event_accumulator.py:294] Found more than one graph event per run, or there was a metagraph containing a graph_def, as well as one or more graph events.  Overwriting the graph with the newest event.\n",
      "W0630 23:16:33.521269 140611189679872 plugin_event_accumulator.py:302] Found more than one metagraph event per run. Overwriting the metagraph with the newest event.\n",
      "W0630 23:16:33.540624 140611189679872 plugin_event_accumulator.py:294] Found more than one graph event per run, or there was a metagraph containing a graph_def, as well as one or more graph events.  Overwriting the graph with the newest event.\n",
      "W0630 23:16:33.543251 140611189679872 plugin_event_accumulator.py:302] Found more than one metagraph event per run. Overwriting the metagraph with the newest event.\n",
      "W0630 23:16:36.089039 140611189679872 plugin_event_accumulator.py:294] Found more than one graph event per run, or there was a metagraph containing a graph_def, as well as one or more graph events.  Overwriting the graph with the newest event.\n",
      "W0630 23:16:36.091490 140611189679872 plugin_event_accumulator.py:302] Found more than one metagraph event per run. Overwriting the metagraph with the newest event.\n",
      "W0630 23:16:36.099929 140611189679872 plugin_event_accumulator.py:294] Found more than one graph event per run, or there was a metagraph containing a graph_def, as well as one or more graph events.  Overwriting the graph with the newest event.\n",
      "W0630 23:16:36.102493 140611189679872 plugin_event_accumulator.py:302] Found more than one metagraph event per run. Overwriting the metagraph with the newest event.\n",
      "W0630 23:16:36.109083 140611189679872 plugin_event_accumulator.py:294] Found more than one graph event per run, or there was a metagraph containing a graph_def, as well as one or more graph events.  Overwriting the graph with the newest event.\n",
      "W0630 23:16:36.111545 140611189679872 plugin_event_accumulator.py:302] Found more than one metagraph event per run. Overwriting the metagraph with the newest event.\n",
      "W0630 23:16:36.120932 140611189679872 plugin_event_accumulator.py:294] Found more than one graph event per run, or there was a metagraph containing a graph_def, as well as one or more graph events.  Overwriting the graph with the newest event.\n",
      "W0630 23:16:36.123460 140611189679872 plugin_event_accumulator.py:302] Found more than one metagraph event per run. Overwriting the metagraph with the newest event.\n",
      "W0630 23:16:41.821252 140611189679872 plugin_event_accumulator.py:294] Found more than one graph event per run, or there was a metagraph containing a graph_def, as well as one or more graph events.  Overwriting the graph with the newest event.\n",
      "W0630 23:16:41.827189 140611189679872 plugin_event_accumulator.py:302] Found more than one metagraph event per run. Overwriting the metagraph with the newest event.\n",
      "W0630 23:16:45.561430 140611189679872 plugin_event_accumulator.py:294] Found more than one graph event per run, or there was a metagraph containing a graph_def, as well as one or more graph events.  Overwriting the graph with the newest event.\n",
      "W0630 23:16:45.566083 140611189679872 plugin_event_accumulator.py:302] Found more than one metagraph event per run. Overwriting the metagraph with the newest event.\n",
      "W0630 23:16:45.578190 140611189679872 plugin_event_accumulator.py:294] Found more than one graph event per run, or there was a metagraph containing a graph_def, as well as one or more graph events.  Overwriting the graph with the newest event.\n",
      "W0630 23:16:45.580622 140611189679872 plugin_event_accumulator.py:302] Found more than one metagraph event per run. Overwriting the metagraph with the newest event.\n",
      "W0630 23:16:45.592321 140611189679872 plugin_event_accumulator.py:294] Found more than one graph event per run, or there was a metagraph containing a graph_def, as well as one or more graph events.  Overwriting the graph with the newest event.\n",
      "W0630 23:16:45.594755 140611189679872 plugin_event_accumulator.py:302] Found more than one metagraph event per run. Overwriting the metagraph with the newest event.\n",
      "W0630 23:16:45.606649 140611189679872 plugin_event_accumulator.py:294] Found more than one graph event per run, or there was a metagraph containing a graph_def, as well as one or more graph events.  Overwriting the graph with the newest event.\n",
      "W0630 23:16:45.611834 140611189679872 plugin_event_accumulator.py:302] Found more than one metagraph event per run. Overwriting the metagraph with the newest event.\n",
      "W0630 23:16:46.707828 140611189679872 plugin_event_accumulator.py:294] Found more than one graph event per run, or there was a metagraph containing a graph_def, as well as one or more graph events.  Overwriting the graph with the newest event.\n",
      "W0630 23:16:46.710410 140611189679872 plugin_event_accumulator.py:302] Found more than one metagraph event per run. Overwriting the metagraph with the newest event.\n",
      "W0630 23:16:46.729217 140611189679872 plugin_event_accumulator.py:294] Found more than one graph event per run, or there was a metagraph containing a graph_def, as well as one or more graph events.  Overwriting the graph with the newest event.\n",
      "W0630 23:16:46.731754 140611189679872 plugin_event_accumulator.py:302] Found more than one metagraph event per run. Overwriting the metagraph with the newest event.\n",
      "W0630 23:16:46.743422 140611189679872 plugin_event_accumulator.py:294] Found more than one graph event per run, or there was a metagraph containing a graph_def, as well as one or more graph events.  Overwriting the graph with the newest event.\n",
      "W0630 23:16:46.751106 140611189679872 plugin_event_accumulator.py:302] Found more than one metagraph event per run. Overwriting the metagraph with the newest event.\n",
      "W0630 23:16:47.916700 140611189679872 plugin_event_accumulator.py:294] Found more than one graph event per run, or there was a metagraph containing a graph_def, as well as one or more graph events.  Overwriting the graph with the newest event.\n",
      "W0630 23:16:47.921318 140611189679872 plugin_event_accumulator.py:302] Found more than one metagraph event per run. Overwriting the metagraph with the newest event.\n",
      "W0630 23:16:50.518209 140611189679872 plugin_event_accumulator.py:294] Found more than one graph event per run, or there was a metagraph containing a graph_def, as well as one or more graph events.  Overwriting the graph with the newest event.\n",
      "W0630 23:16:50.524835 140611189679872 plugin_event_accumulator.py:302] Found more than one metagraph event per run. Overwriting the metagraph with the newest event.\n",
      "W0630 23:16:51.440558 140611189679872 plugin_event_accumulator.py:294] Found more than one graph event per run, or there was a metagraph containing a graph_def, as well as one or more graph events.  Overwriting the graph with the newest event.\n",
      "W0630 23:16:51.444896 140611189679872 plugin_event_accumulator.py:302] Found more than one metagraph event per run. Overwriting the metagraph with the newest event.\n"
     ]
    }
   ],
   "source": [
    "%cd /workdir/msc/RotationDetection/output/summary\n",
    "!tensorboard --logdir=. --port 6006"
   ]
  },
  {
   "cell_type": "code",
   "execution_count": null,
   "id": "194a6682",
   "metadata": {},
   "outputs": [],
   "source": []
  }
 ],
 "metadata": {
  "kernelspec": {
   "display_name": "Python 3",
   "language": "python",
   "name": "python3"
  },
  "language_info": {
   "codemirror_mode": {
    "name": "ipython",
    "version": 3
   },
   "file_extension": ".py",
   "mimetype": "text/x-python",
   "name": "python",
   "nbconvert_exporter": "python",
   "pygments_lexer": "ipython3",
   "version": "3.6.9"
  }
 },
 "nbformat": 4,
 "nbformat_minor": 5
}
