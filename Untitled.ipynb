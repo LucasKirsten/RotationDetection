{
 "cells": [
  {
   "cell_type": "code",
   "execution_count": 17,
   "id": "a4989ee3",
   "metadata": {},
   "outputs": [],
   "source": [
    "import cv2\n",
    "from glob import glob\n",
    "\n",
    "path_imgs = glob('/datasets/msc/UFRGS_CELL/train/imgs/*')\n",
    "\n",
    "for path in path_imgs:\n",
    "    img = cv2.imread(path)\n",
    "    cv2.imwrite(path.split('.jpg')[0].split('.png')[0]+'.jpg', img)"
   ]
  },
  {
   "cell_type": "code",
   "execution_count": 12,
   "id": "b5ac41d7",
   "metadata": {},
   "outputs": [
    {
     "name": "stdout",
     "output_type": "stream",
     "text": [
      "exp_L1.jpg\n",
      "exp_LJ12.jpg\n"
     ]
    }
   ],
   "source": [
    "import os\n",
    "images = os.listdir('/datasets/msc/UFRGS_CELL/test/imgs')\n",
    "anns = os.listdir('/datasets/msc/UFRGS_CELL/test/annotations/xml_rotdet')\n",
    "\n",
    "for img in images:\n",
    "    if img.split('.jpg')[0]+'.xml' not in anns:\n",
    "        print(img)"
   ]
  },
  {
   "cell_type": "code",
   "execution_count": 18,
   "id": "90d5fb6a",
   "metadata": {},
   "outputs": [],
   "source": [
    "!rm /datasets/msc/UFRGS_CELL/train/imgs/*.png"
   ]
  },
  {
   "cell_type": "code",
   "execution_count": 13,
   "id": "8ddbd024",
   "metadata": {},
   "outputs": [
    {
     "name": "stdout",
     "output_type": "stream",
     "text": [
      ".ipynb_checkpoints\n"
     ]
    }
   ],
   "source": [
    "for ann in anns:\n",
    "    if ann.split('.xml')[0]+'.jpg' not in images:\n",
    "        print(ann)"
   ]
  },
  {
   "cell_type": "code",
   "execution_count": 14,
   "id": "200c8d94",
   "metadata": {},
   "outputs": [
    {
     "data": {
      "text/plain": [
       "25"
      ]
     },
     "execution_count": 14,
     "metadata": {},
     "output_type": "execute_result"
    }
   ],
   "source": [
    "len(os.listdir('/datasets/msc/UFRGS_CELL/test/annotations/xml_rotdet'))"
   ]
  },
  {
   "cell_type": "code",
   "execution_count": null,
   "id": "ab3ab737",
   "metadata": {},
   "outputs": [],
   "source": []
  }
 ],
 "metadata": {
  "kernelspec": {
   "display_name": "Python 3",
   "language": "python",
   "name": "python3"
  },
  "language_info": {
   "codemirror_mode": {
    "name": "ipython",
    "version": 3
   },
   "file_extension": ".py",
   "mimetype": "text/x-python",
   "name": "python",
   "nbconvert_exporter": "python",
   "pygments_lexer": "ipython3",
   "version": "3.6.9"
  }
 },
 "nbformat": 4,
 "nbformat_minor": 5
}
