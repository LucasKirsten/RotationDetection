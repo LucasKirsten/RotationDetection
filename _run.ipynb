{
 "cells": [
  {
   "cell_type": "markdown",
   "metadata": {},
   "source": [
    "### Compilations"
   ]
  },
  {
   "cell_type": "code",
   "execution_count": null,
   "metadata": {},
   "outputs": [],
   "source": [
    "!apt update && apt install -y libsm6 libxext6\n",
    "!apt-get install -y libxrender-dev"
   ]
  },
  {
   "cell_type": "code",
   "execution_count": null,
   "metadata": {},
   "outputs": [],
   "source": [
    "%cd /workdir/msc/RotationDetection/libs/utils/cython_utils\n",
    "!rm *.so\n",
    "!rm *.c\n",
    "!rm *.cpp\n",
    "!python setup.py build_ext --inplace"
   ]
  },
  {
   "cell_type": "code",
   "execution_count": null,
   "metadata": {},
   "outputs": [],
   "source": [
    "%cd /workdir/msc/RotationDetection/libs/utils/\n",
    "!rm *.so\n",
    "!rm *.c\n",
    "!rm *.cpp\n",
    "!python setup.py build_ext --inplace"
   ]
  },
  {
   "cell_type": "markdown",
   "metadata": {},
   "source": [
    "### Dataset"
   ]
  },
  {
   "cell_type": "code",
   "execution_count": 18,
   "metadata": {},
   "outputs": [
    {
     "name": "stdout",
     "output_type": "stream",
     "text": [
      "/workdir/msc/RotationDetection/cell_utils\n",
      "100%|███████████████████████████████████████████| 30/30 [00:00<00:00, 71.89it/s]\n"
     ]
    }
   ],
   "source": [
    "# change train and test paths inside the script\n",
    "%cd /workdir/msc/RotationDetection/dataloader/dataset/UFRGS_CELL\n",
    "!python convert_ann2dota.py"
   ]
  },
  {
   "cell_type": "code",
   "execution_count": 21,
   "metadata": {},
   "outputs": [
    {
     "name": "stdout",
     "output_type": "stream",
     "text": [
      "/workdir/msc/RotationDetection/dataloader/dataset/UFRGS_CELL\n",
      "100%|█████████████████████████████████████████| 150/150 [00:02<00:00, 73.11it/s]\n"
     ]
    }
   ],
   "source": [
    "# change root path inside the script\n",
    "%cd /workdir/msc/RotationDetection/dataloader/dataset/UFRGS_CELL\n",
    "!python convert2jpg.py"
   ]
  },
  {
   "cell_type": "code",
   "execution_count": 23,
   "metadata": {
    "collapsed": true,
    "jupyter": {
     "outputs_hidden": true
    }
   },
   "outputs": [
    {
     "name": "stdout",
     "output_type": "stream",
     "text": [
      "/workdir/msc/RotationDetection/dataloader/dataset/UFRGS_CELL\n",
      "class_list 2\n",
      "find image 120\n",
      "find label 120\n",
      "0it [00:00, ?it/s]exp_L1.5_Luana_A172_cloneF9(mito)+H2B_TMZ3horas_100uM_2min_T1556616512\n",
      "[]\n",
      "1it [00:01,  1.52s/it]exp_LJ14_LuanaeJulieti_A172_nan_CT_10min_T1574821318\n",
      "[]\n",
      "2it [00:02,  1.49s/it]exp_LJ12.2_LuanaeJulieti_A172_F9DP53_TMZ3horas(conferir)_50uM_2min_T1558053744\n",
      "[]\n",
      "3it [00:04,  1.57s/it]exp_L1.2_Luana_A172_cloneF9(mito)+H2B_TMZ3horas_100uM_2min_T1554920443\n",
      "[]\n",
      "4it [00:06,  1.65s/it]exp_M1_Mauricio_mcf7_frame_10\n",
      "[]\n",
      "5it [00:08,  1.73s/it]exp_LJ1.4_LuanaeJulieti_A172(conferirnocaderno)_cloneF9(mito)(conferirnocaderno)_CT_30min_T1547953344\n",
      "[]\n",
      "6it [00:10,  1.68s/it]exp_L1_Luana_A172_cloneF9(mito)+H2B_TMZ3horas_100uM_15min_T1554255224\n",
      "[]\n",
      "7it [00:11,  1.60s/it]exp_M4_Mauricio_mcr5_frame_6\n",
      "[]\n",
      "8it [00:13,  1.68s/it]exp_LJ10_LuanaeJulieti_A172_cloneF9(mito)+H2B_CT_15min_T1553694354\n",
      "[]\n",
      "9it [00:14,  1.66s/it]exp_LJ12.2_LuanaeJulieti_A172_F9DP53_TMZ3horas(conferir)_50uM_2min_T1558020022\n",
      "[]\n",
      "10it [00:16,  1.69s/it]exp_M2_Mauricio_mcr5_frame_10\n",
      "[]\n",
      "11it [00:18,  1.65s/it]exp_L1.1_Luana_A172_cloneF9(mito)+H2B_TMZ3horas_100uM_2min_T1554610317\n",
      "[]\n",
      "12it [00:20,  1.72s/it]exp_LJ10_LuanaeJulieti_A172_cloneF9(mito)+H2B_CT_15min_T1553839251\n",
      "[]\n",
      "13it [00:22,  1.83s/it]exp_LJ3_LuanaeJulieti_A172(conferirnocaderno)_cloneF9(mito)(conferirnocaderno)_CT_30min_T1548806855\n",
      "[]\n",
      "14it [00:23,  1.70s/it]exp_LJ12.2_LuanaeJulieti_A172_F9DP53_TMZ3horas(conferir)_50uM_2min_T1557881778\n",
      "[]\n",
      "15it [00:25,  1.67s/it]exp_LJ12.2_LuanaeJulieti_A172_F9DP53_TMZ3horas(conferir)_50uM_2min_T1558003581\n",
      "[]\n",
      "16it [00:26,  1.67s/it]exp_LJ6_LuanaeJulieti_A172(conferirnocaderno)_cloneF9(mito)(conferirnocaderno)_CT_15min_T1550381056\n",
      "[]\n",
      "17it [00:28,  1.59s/it]exp_LJ3_LuanaeJulieti_A172(conferirnocaderno)_cloneF9(mito)(conferirnocaderno)_CT_30min_T1548815855\n",
      "[]\n",
      "18it [00:29,  1.54s/it]exp_M2_Mauricio_mcr5_frame_30\n",
      "[]\n",
      "19it [00:31,  1.54s/it]exp_LJ8_LuanaeJulieti_U251_nan_CT_1min_T1552418441\n",
      "[]\n",
      "20it [00:31,  1.30s/it]exp_M1_Mauricio_mcf7_frame_16\n",
      "[]\n",
      "21it [00:33,  1.51s/it]exp_M4_Mauricio_mcr5_frame_46\n",
      "[]\n",
      "22it [00:35,  1.61s/it]exp_M1_Mauricio_mcf7_frame_2\n",
      "[]\n",
      "23it [00:37,  1.71s/it]exp_LJ10_LuanaeJulieti_A172_cloneF9(mito)+H2B_CT_15min_T1553733952\n",
      "[]\n",
      "24it [00:39,  1.69s/it]exp_LJ3_LuanaeJulieti_A172(conferirnocaderno)_cloneF9(mito)(conferirnocaderno)_CT_30min_T1548767255\n",
      "[]\n",
      "25it [00:40,  1.59s/it]exp_LJ1.1_LuanaeJulieti_A172(conferirnocaderno)_cloneF9(mito)(conferirnocaderno)_CT_30min_T1547642085\n",
      "[]\n",
      "26it [00:42,  1.52s/it]exp_M2_Mauricio_mcr5_frame_21\n",
      "[]\n",
      "27it [00:43,  1.53s/it]exp_M2_Mauricio_mcr5_frame_5\n",
      "[]\n",
      "28it [00:45,  1.54s/it]exp_LJ13_LuanaeJulieti_A172_wt_CT_5min_T1564620959\n",
      "[]\n",
      "29it [00:46,  1.53s/it]exp_LJ4_LuanaeJulieti_A172(conferirnocaderno)_cloneF9(mito)(conferirnocaderno)_CT_15min_T1549004357\n",
      "[]\n",
      "30it [00:48,  1.65s/it]exp_LJ17_LuanaeJulieti_A172_cloneF9(mito)+H2B_CT_10min_T1576096331\n",
      "[]\n",
      "31it [00:49,  1.40s/it]exp_M1_Mauricio_mcf7_frame_25\n",
      "[]\n",
      "32it [00:51,  1.56s/it]exp_LJ1.4_LuanaeJulieti_A172(conferirnocaderno)_cloneF9(mito)(conferirnocaderno)_CT_30min_T1548126145\n",
      "[]\n",
      "33it [00:52,  1.52s/it]exp_M2_Mauricio_mcr5_frame_13\n",
      "[]\n",
      "34it [00:54,  1.53s/it]exp_LJ1_LuanaeJulieti_A172(conferirnocaderno)_cloneF9(mito)(conferirnocaderno)_CT_30min_T1547568095\n",
      "[]\n",
      "35it [00:55,  1.46s/it]exp_M3_Mauricio_mcf7_frame_40\n",
      "[]\n",
      "36it [00:57,  1.54s/it]exp_LJ9_LuanaeJulieti_U251_cloneE2_CT_1min_T1552698000\n",
      "[]\n",
      "37it [00:58,  1.45s/it]exp_LJ9_LuanaeJulieti_U251_cloneE2_CT_1min_T1552871170\n",
      "[]\n",
      "38it [01:00,  1.44s/it]exp_M1_Mauricio_mcf7_frame_18\n",
      "[]\n",
      "39it [01:02,  1.60s/it]exp_LJ12.2_LuanaeJulieti_A172_F9DP53_TMZ3horas(conferir)_50uM_2min_T1557991820\n",
      "[]\n",
      "40it [01:03,  1.63s/it]exp_L1.3_Luana_A172_cloneF9(mito)+H2B_TMZ3horas_100uM_2min_T1555604305\n",
      "[]\n",
      "41it [01:05,  1.66s/it]exp_M1_Mauricio_mcf7_frame_31\n",
      "[]\n",
      "42it [01:07,  1.74s/it]exp_M1_Mauricio_mcf7_frame_8\n",
      "[]\n",
      "43it [01:09,  1.80s/it]exp_LJ12_LuanaeJulieti_A172_F9DP53_CT_2min_T1556981537\n",
      "[]\n",
      "44it [01:10,  1.66s/it]exp_M1_Mauricio_mcf7_frame_39\n",
      "[]\n",
      "45it [01:12,  1.74s/it]exp_M4_Mauricio_mcr5_frame_1\n",
      "[]\n",
      "46it [01:14,  1.79s/it]exp_LJ12.1_LuanaeJulieti_A172_F9DP53_CT_2min_T1557295570\n",
      "[]\n",
      "47it [01:15,  1.42s/it]exp_LJ3_LuanaeJulieti_A172(conferirnocaderno)_cloneF9(mito)(conferirnocaderno)_CT_30min_T1548772655\n",
      "[]\n",
      "48it [01:16,  1.41s/it]exp_L1.1_Luana_A172_cloneF9(mito)+H2B_TMZ3horas_100uM_2min_T1554619558\n",
      "[]\n",
      "49it [01:18,  1.57s/it]exp_L1.4_Luana_A172_cloneF9(mito)+H2B_TMZ3horas_100uM_2min_T1554749283\n",
      "[]\n",
      "50it [01:20,  1.69s/it]exp_LJ1_LuanaeJulieti_A172(conferirnocaderno)_cloneF9(mito)(conferirnocaderno)_CT_30min_T1547590094\n",
      "[]\n",
      "51it [01:21,  1.59s/it]exp_LJ3_LuanaeJulieti_A172(conferirnocaderno)_cloneF9(mito)(conferirnocaderno)_CT_30min_T1548814055\n",
      "[]\n",
      "52it [01:23,  1.54s/it]exp_LJ1.1_LuanaeJulieti_A172(conferirnocaderno)_cloneF9(mito)(conferirnocaderno)_CT_30min_T1547690674\n",
      "[]\n",
      "53it [01:24,  1.51s/it]exp_M1_Mauricio_mcf7_frame_24\n",
      "[]\n",
      "54it [01:26,  1.64s/it]exp_M3_Mauricio_mcf7_frame_25\n",
      "[]\n",
      "55it [01:28,  1.65s/it]exp_M3_Mauricio_mcf7_frame_1\n",
      "[]\n",
      "56it [01:29,  1.62s/it]exp_L1.2_Luana_A172_cloneF9(mito)+H2B_TMZ3horas_100uM_2min_T1555028259\n",
      "[]\n",
      "57it [01:31,  1.68s/it]exp_LJ1_LuanaeJulieti_A172(conferirnocaderno)_cloneF9(mito)(conferirnocaderno)_CT_30min_T1547608094\n",
      "[]\n",
      "58it [01:32,  1.59s/it]exp_LJ10_LuanaeJulieti_A172_cloneF9(mito)+H2B_CT_15min_T1553742052\n",
      "[]\n",
      "59it [01:34,  1.64s/it]exp_M2_Mauricio_mcr5_frame_17\n",
      "[]\n",
      "60it [01:36,  1.61s/it]exp_LJ3.1_LuanaeJulieti_A172(conferirnocaderno)_cloneF9(mito)(conferirnocaderno)_CT_30min_T1548931648\n",
      "[]\n",
      "61it [01:37,  1.60s/it]exp_M2_Mauricio_mcr5_frame_29\n",
      "[]\n",
      "62it [01:39,  1.58s/it]exp_L1.4_Luana_A172_cloneF9(mito)+H2B_TMZ3horas_100uM_2min_T1554743523\n",
      "[]\n",
      "63it [01:41,  1.68s/it]exp_LJ1.1_LuanaeJulieti_A172(conferirnocaderno)_cloneF9(mito)(conferirnocaderno)_CT_30min_T1547658284\n",
      "[]\n",
      "64it [01:42,  1.56s/it]exp_LJ1_LuanaeJulieti_A172(conferirnocaderno)_cloneF9(mito)(conferirnocaderno)_CT_30min_T1547622494\n",
      "[]\n",
      "65it [01:43,  1.51s/it]exp_LJ15_LuanaeJulieti_A172_cloneF9(mito)+H2B_CT_10min_T1575262728\n",
      "[]\n",
      "66it [01:45,  1.50s/it]exp_LJ1.2_LuanaeJulieti_A172(conferirnocaderno)_cloneF9(mito)(conferirnocaderno)_CT_30min_T1547665484\n",
      "[]\n",
      "67it [01:46,  1.48s/it]exp_LJ12.3_LuanaeJulieti_A172_F9DP53_TMZ3horas(conferir)_50uM_2min_T1558196981\n",
      "[]\n",
      "68it [01:48,  1.55s/it]exp_M2_Mauricio_mcr5_frame_33\n",
      "[]\n",
      "69it [01:50,  1.54s/it]exp_M4_Mauricio_mcr5_frame_11\n",
      "[]\n",
      "70it [01:51,  1.64s/it]exp_L1.1_Luana_A172_cloneF9(mito)+H2B_TMZ3horas_100uM_2min_T1554690720\n",
      "[]\n",
      "71it [01:54,  1.76s/it]exp_LJ10_LuanaeJulieti_A172_cloneF9(mito)+H2B_CT_15min_T1553804150\n",
      "[]\n",
      "72it [01:55,  1.82s/it]exp_LJ12_LuanaeJulieti_A172_F9DP53_CT_2min_T1556971216\n",
      "[]\n",
      "73it [01:57,  1.69s/it]exp_M3_Mauricio_mcf7_frame_45\n",
      "[]\n",
      "74it [01:59,  1.69s/it]exp_LJ6_LuanaeJulieti_A172(conferirnocaderno)_cloneF9(mito)(conferirnocaderno)_CT_15min_T1550473757\n",
      "[]\n",
      "75it [02:00,  1.63s/it]exp_LJ10_LuanaeJulieti_A172_cloneF9(mito)+H2B_CT_15min_T1553697954\n",
      "[]\n",
      "76it [02:02,  1.65s/it]exp_LJ12.2_LuanaeJulieti_A172_F9DP53_TMZ3horas(conferir)_50uM_2min_T1558038023\n",
      "[]\n",
      "77it [02:03,  1.66s/it]exp_LJ14_LuanaeJulieti_A172_nan_CT_10min_T1574786518\n",
      "[]\n",
      "78it [02:05,  1.58s/it]exp_LJ6_LuanaeJulieti_A172(conferirnocaderno)_cloneF9(mito)(conferirnocaderno)_CT_15min_T1550395456\n",
      "[]\n",
      "79it [02:06,  1.54s/it]exp_LJ4_LuanaeJulieti_A172(conferirnocaderno)_cloneF9(mito)(conferirnocaderno)_CT_15min_T1549016957\n",
      "[]\n",
      "80it [02:08,  1.68s/it]exp_M2_Mauricio_mcr5_frame_39\n",
      "[]\n",
      "81it [02:10,  1.64s/it]exp_LJ13_LuanaeJulieti_A172_wt_CT_5min_T1564721759\n",
      "[]\n",
      "82it [02:11,  1.65s/it]exp_LJ8_LuanaeJulieti_U251_nan_CT_1min_T1552480068\n",
      "[]\n",
      "83it [02:12,  1.37s/it]exp_LJ6_LuanaeJulieti_A172(conferirnocaderno)_cloneF9(mito)(conferirnocaderno)_CT_15min_T1550419756\n",
      "[]\n",
      "84it [02:14,  1.39s/it]exp_L1.2_Luana_A172_cloneF9(mito)+H2B_TMZ3horas_100uM_2min_T1555054539\n",
      "[]\n",
      "85it [02:15,  1.51s/it]exp_LJ5_LuanaeJulieti_A172(conferirnocaderno)_cloneF9(mito)(conferirnocaderno)_CT_15min_T1549158276\n",
      "[]\n",
      "86it [02:18,  1.80s/it]exp_LJ10_LuanaeJulieti_A172_cloneF9(mito)+H2B_CT_15min_T1553695254\n",
      "[]\n",
      "87it [02:20,  1.74s/it]exp_L1_Luana_A172_cloneF9(mito)+H2B_TMZ3horas_100uM_15min_T1554461322\n",
      "[]\n",
      "88it [02:21,  1.71s/it]exp_M4_Mauricio_mcr5_frame_34\n",
      "[]\n",
      "89it [02:23,  1.77s/it]exp_LJ3_LuanaeJulieti_A172(conferirnocaderno)_cloneF9(mito)(conferirnocaderno)_CT_30min_T1548799655\n",
      "[]\n",
      "90it [02:24,  1.65s/it]exp_LJ13_LuanaeJulieti_A172_wt_CT_5min_T1564622459\n",
      "[]\n",
      "91it [02:26,  1.60s/it]exp_M1_Mauricio_mcf7_frame_32\n",
      "[]\n",
      "92it [02:28,  1.70s/it]exp_LJ3.1_LuanaeJulieti_A172(conferirnocaderno)_cloneF9(mito)(conferirnocaderno)_CT_30min_T1548915448\n",
      "[]\n",
      "93it [02:29,  1.66s/it]exp_LJ14_LuanaeJulieti_A172_nan_CT_10min_T1574802718\n",
      "[]\n",
      "94it [02:31,  1.59s/it]exp_M1_Mauricio_mcf7_frame_37\n",
      "[]\n",
      "95it [02:33,  1.69s/it]exp_M4_Mauricio_mcr5_frame_50\n",
      "[]\n",
      "96it [02:35,  1.76s/it]exp_M2_Mauricio_mcr5_frame_25\n",
      "[]\n",
      "97it [02:36,  1.69s/it]exp_LJ10_LuanaeJulieti_A172_cloneF9(mito)+H2B_CT_15min_T1553778052\n",
      "[]\n",
      "98it [02:38,  1.75s/it]exp_M1_Mauricio_mcf7_frame_19\n",
      "[]\n",
      "99it [02:40,  1.80s/it]exp_M4_Mauricio_mcr5_frame_29\n",
      "[]\n",
      "100it [02:42,  1.84s/it]exp_L1.3_Luana_A172_cloneF9(mito)+H2B_TMZ3horas_100uM_2min_T1555838800\n",
      "[]\n",
      "101it [02:44,  1.77s/it]exp_LJ5_LuanaeJulieti_A172(conferirnocaderno)_cloneF9(mito)(conferirnocaderno)_CT_15min_T1549274376\n",
      "[]\n",
      "102it [02:47,  2.37s/it]exp_M2_Mauricio_mcr5_frame_2\n",
      "[]\n",
      "103it [02:49,  2.14s/it]exp_LJ1.4_LuanaeJulieti_A172(conferirnocaderno)_cloneF9(mito)(conferirnocaderno)_CT_30min_T1547956944\n",
      "[]\n",
      "104it [02:50,  1.96s/it]exp_LJ1.3_LuanaeJulieti_A172(conferirnocaderno)_cloneF9(mito)(conferirnocaderno)_CT_30min_T1547824906\n",
      "[]\n",
      "105it [02:52,  1.83s/it]exp_LJ3_LuanaeJulieti_A172(conferirnocaderno)_cloneF9(mito)(conferirnocaderno)_CT_30min_T1548770855\n",
      "[]\n",
      "106it [02:53,  1.69s/it]exp_LJ12.2_LuanaeJulieti_A172_F9DP53_TMZ3horas(conferir)_50uM_2min_T1557977179\n",
      "[]\n",
      "107it [02:55,  1.69s/it]exp_M3_Mauricio_mcf7_frame_6\n",
      "[]\n",
      "108it [02:57,  1.68s/it]exp_M4_Mauricio_mcr5_frame_21\n",
      "[]\n",
      "109it [02:59,  1.76s/it]exp_LJ6_LuanaeJulieti_A172(conferirnocaderno)_cloneF9(mito)(conferirnocaderno)_CT_15min_T1550480957\n",
      "[]\n",
      "110it [03:00,  1.68s/it]exp_M3_Mauricio_mcf7_frame_29\n",
      "[]\n",
      "111it [03:02,  1.67s/it]exp_LJ12.2_LuanaeJulieti_A172_F9DP53_TMZ3horas(conferir)_50uM_2min_T1557915020\n",
      "[]\n",
      "112it [03:03,  1.66s/it]exp_L1.5_Luana_A172_cloneF9(mito)+H2B_TMZ3horas_100uM_2min_T1556541870\n",
      "[]\n",
      "113it [03:05,  1.62s/it]exp_LJ1_LuanaeJulieti_A172(conferirnocaderno)_cloneF9(mito)(conferirnocaderno)_CT_30min_T1547555495\n",
      "[]\n",
      "114it [03:06,  1.53s/it]exp_L1.3_Luana_A172_cloneF9(mito)+H2B_TMZ3horas_100uM_2min_T1556008841\n",
      "[]\n",
      "115it [03:08,  1.52s/it]exp_M3_Mauricio_mcf7_frame_11\n",
      "[]\n",
      "116it [03:09,  1.57s/it]exp_M2_Mauricio_mcr5_frame_7\n",
      "[]\n",
      "117it [03:11,  1.57s/it]exp_LJ6_LuanaeJulieti_A172(conferirnocaderno)_cloneF9(mito)(conferirnocaderno)_CT_15min_T1550456656\n",
      "[]\n",
      "118it [03:12,  1.54s/it]exp_LJ6_LuanaeJulieti_A172(conferirnocaderno)_cloneF9(mito)(conferirnocaderno)_CT_15min_T1550439556\n",
      "[]\n",
      "119it [03:14,  1.52s/it]exp_K1_Karine_A172_cloneE9(ERK53BP1)_TMZ_50uM_5min_T1582463418\n",
      "[]\n",
      "120it [03:16,  1.64s/it]\n"
     ]
    }
   ],
   "source": [
    "# change train path inside the script\n",
    "%cd /workdir/msc/RotationDetection/dataloader/dataset/UFRGS_CELL\n",
    "!python data_crop.py"
   ]
  },
  {
   "cell_type": "code",
   "execution_count": 37,
   "metadata": {},
   "outputs": [
    {
     "name": "stdout",
     "output_type": "stream",
     "text": [
      "/workdir/msc/RotationDetection/dataloader/dataset\n",
      "/workdir/msc/RotationDetection\n",
      "WARNING:tensorflow:From convert_data_to_tfrecord.py:86: The name tf.python_io.TFRecordWriter is deprecated. Please use tf.io.TFRecordWriter instead.\n",
      "\n",
      "100%|██████████████████████████████████████| 5590/5590 [00:44<00:00, 126.16it/s]\n",
      "\n",
      "Conversion is complete!\n"
     ]
    }
   ],
   "source": [
    "%cd /workdir/msc/RotationDetection/dataloader/dataset/  \n",
    "!python convert_data_to_tfrecord.py --VOC_dir='/workdir/datasets/msc/UFRGS_CELL_2classes/crop' \\\n",
    "                                   --xml_dir='labeltxt' \\\n",
    "                                   --image_dir='images' \\\n",
    "                                   --save_name='train'  \\\n",
    "                                   --img_format='.png'  \\\n",
    "                                   --save_dir='/workdir/datasets/msc/' \\\n",
    "                                   --dataset='UFRGS_CELL' \\"
   ]
  },
  {
   "cell_type": "markdown",
   "metadata": {},
   "source": [
    "## Train"
   ]
  },
  {
   "cell_type": "code",
   "execution_count": null,
   "metadata": {},
   "outputs": [],
   "source": [
    "%cd /workdir/msc/RotationDetection/tools/gwd\n",
    "!python train.py"
   ]
  },
  {
   "cell_type": "code",
   "execution_count": 40,
   "metadata": {},
   "outputs": [],
   "source": [
    "!git add . && git commit -m \"updates to cell detector\" && git push"
   ]
  },
  {
   "cell_type": "markdown",
   "metadata": {},
   "source": [
    "## Test"
   ]
  },
  {
   "cell_type": "code",
   "execution_count": null,
   "metadata": {},
   "outputs": [],
   "source": [
    "%cd /workdir/msc/RotationDetection/tools/gwd\n",
    "!python test_hrsc2016.py --img_dir='/datasets/msc/HRSC2016/HRSC2016/Test/AllImages'  \\\n",
    "                         --gpu=0 \\\n",
    "                         --image_ext='.bmp' \\\n",
    "                         --test_annotation_path='/datasets/msc/HRSC2016/HRSC2016/Test/xmls'"
   ]
  },
  {
   "cell_type": "code",
   "execution_count": null,
   "metadata": {},
   "outputs": [],
   "source": [
    "%cd /workdir/msc/RotationDetection/tools/gwd\n",
    "!python test_dota.py --test_dir='/datasets/dataset/DOTA/test/images'  \\\n",
    "                     --gpus=0,1"
   ]
  },
  {
   "cell_type": "code",
   "execution_count": null,
   "metadata": {},
   "outputs": [],
   "source": []
  }
 ],
 "metadata": {
  "kernelspec": {
   "display_name": "Python 3",
   "language": "python",
   "name": "python3"
  },
  "language_info": {
   "codemirror_mode": {
    "name": "ipython",
    "version": 3
   },
   "file_extension": ".py",
   "mimetype": "text/x-python",
   "name": "python",
   "nbconvert_exporter": "python",
   "pygments_lexer": "ipython3",
   "version": "3.6.9"
  }
 },
 "nbformat": 4,
 "nbformat_minor": 4
}
