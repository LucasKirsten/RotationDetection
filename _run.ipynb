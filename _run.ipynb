{
 "cells": [
  {
   "cell_type": "markdown",
   "metadata": {},
   "source": [
    "### Compilations"
   ]
  },
  {
   "cell_type": "code",
   "execution_count": null,
   "metadata": {},
   "outputs": [],
   "source": [
    "!apt update && apt install -y libsm6 libxext6\n",
    "!apt-get install -y libxrender-dev"
   ]
  },
  {
   "cell_type": "code",
   "execution_count": null,
   "metadata": {},
   "outputs": [],
   "source": [
    "%cd /workdir/msc/RotationDetection/libs/utils/cython_utils\n",
    "!rm *.so\n",
    "!rm *.c\n",
    "!rm *.cpp\n",
    "!python setup.py build_ext --inplace"
   ]
  },
  {
   "cell_type": "code",
   "execution_count": null,
   "metadata": {},
   "outputs": [],
   "source": [
    "%cd /workdir/msc/RotationDetection/libs/utils/\n",
    "!rm *.so\n",
    "!rm *.c\n",
    "!rm *.cpp\n",
    "!python setup.py build_ext --inplace"
   ]
  },
  {
   "cell_type": "markdown",
   "metadata": {},
   "source": [
    "### Dataset"
   ]
  },
  {
   "cell_type": "code",
   "execution_count": null,
   "metadata": {},
   "outputs": [],
   "source": [
    "# change train and test paths inside the script\n",
    "%cd /workdir/msc/RotationDetection/dataloader/dataset/UFRGS_CELL\n",
    "!python convert_ann2dota.py"
   ]
  },
  {
   "cell_type": "code",
   "execution_count": null,
   "metadata": {},
   "outputs": [],
   "source": [
    "# change root path inside the script\n",
    "%cd /workdir/msc/RotationDetection/dataloader/dataset/UFRGS_CELL\n",
    "!python convert2jpg.py"
   ]
  },
  {
   "cell_type": "code",
   "execution_count": null,
   "metadata": {},
   "outputs": [],
   "source": [
    "# change train path inside the script\n",
    "%cd /workdir/msc/RotationDetection/dataloader/dataset/UFRGS_CELL\n",
    "!python data_crop.py"
   ]
  },
  {
   "cell_type": "code",
   "execution_count": null,
   "metadata": {},
   "outputs": [],
   "source": [
    "# change test path inside the script\n",
    "%cd /workdir/msc/RotationDetection/dataloader/dataset/UFRGS_CELL\n",
    "!python txt2xml.py"
   ]
  },
  {
   "cell_type": "code",
   "execution_count": null,
   "metadata": {},
   "outputs": [],
   "source": [
    "%cd /workdir/msc/RotationDetection/dataloader/dataset/\n",
    "!python convert_data_to_tfrecord.py --VOC_dir='/workdir/datasets/msc/UFRGS_CELL_2classes/crop' \\\n",
    "                                    --xml_dir='labeltxt' \\\n",
    "                                    --image_dir='images' \\\n",
    "                                    --save_name='train'  \\\n",
    "                                    --img_format='.png'  \\\n",
    "                                    --save_dir='/workdir/datasets/msc/' \\\n",
    "                                    --dataset='UFRGS_CELL' \\"
   ]
  },
  {
   "cell_type": "markdown",
   "metadata": {},
   "source": [
    "## Train"
   ]
  },
  {
   "cell_type": "code",
   "execution_count": null,
   "metadata": {},
   "outputs": [],
   "source": [
    "# change the path to the detector!\n",
    "%cd /workdir/msc/RotationDetection/tools/rsdet\n",
    "!python train_5p.py"
   ]
  },
  {
   "cell_type": "markdown",
   "metadata": {},
   "source": [
    "## Test"
   ]
  },
  {
   "cell_type": "markdown",
   "metadata": {},
   "source": [
    "| Model      | AP50 normal | AP50 mitoses | P50 normal | R50 normal | P50 mitoses | R50 mitoses |   AP50    |   AP75    |   AP50:95   |\n",
    "|----------- | ----------- | ------------ | ---------- | ---------- | ----------- | ----------- |   -----   |   -----   |   -------   |\n",
    "| RetinaNet  |   75.25     |   56.47      | 37.64      | 85.00      | 10.99       | 82.85       |   65.86   |   19.17   |   29.56     |\n",
    "| R3Det      |   74.97     |   63.21      | 32.68      | 83.42      | 14.35       | 84.76       |   69.09   |   17.91   |   30.89     |\n",
    "| R3Det DCL  |   75.50     |   62.63      | 31.58      | 83.54      | 15.75       | 84.76       |   69.06   | **20.57** |   30.73     |\n",
    "| DCL        |   71.81     |   63.35      | 39.58      | 81.62      | 16.50       | 80.95       |   67.58   |   17.74   |   28.48     |\n",
    "| CSL        |   72.42     |   53.98      | 35.20      | 84.10      | 10.94       | 84.76       |   63.20   |   18.59   |   27.00     |\n",
    "| R2CNN      | **77.33**   | **69.65**    | **67.49**  | 82.41      | **52.79**   | 80.95       | **73.49** |   17.30   |   29.71     |\n",
    "| Refine RetinaNet | 75.15 |   66.75      | 27.93      | **85.68**  | 11.94       | **89.52**   |   70.95   |   18.86   | **31.00**   |\n",
    "| RSDet      |   74.33     |   63.60      | 38.65      | 83.31      | 9.63        | 87.62       |   68.97   |   16.15   |   29.86     |"
   ]
  },
  {
   "cell_type": "code",
   "execution_count": 13,
   "metadata": {},
   "outputs": [
    {
     "name": "stdout",
     "output_type": "stream",
     "text": [
      "/workdir/msc/RotationDetection/tools/r2cnn\n",
      "/workdir/msc/RotationDetection\n",
      "model restore from : /workdir/msc/RotationDetection/output/trained_weights/R2CNN_UFRGS_CELL_smooth_l1_loss/UFRGS_CELL_129999model.ckpt\n",
      "\n",
      "**********\n",
      "Restored model\n",
      "/workdir/msc/RotationDetection/output/trained_weights/R2CNN_UFRGS_CELL_smooth_l1_loss/UFRGS_CELL_129999model.ckpt\n",
      "**********\n",
      "Eval image exp_M3_Mauricio_mcf7_frame_17: 100%|█| 30/30 [00:09<00:00,  3.05it/s]\n",
      "[31, 22, 18, 16, 75, 30, 117, 6, 137, 22, 24, 34, 38, 22, 87, 22, 108, 17, 36, 23, 29, 11, 27, 21, 16, 138, 31, 22, 40, 24]\n",
      "[101, 92, 67, 81, 316, 103, 342, 34, 373, 96, 97, 109, 114, 85, 296, 98, 354, 81, 97, 101, 92, 35, 77, 93, 54, 362, 93, 92, 112, 81]\n",
      "Applying NMS to frames: 100%|█████████████████| 30/30 [00:00<00:00, 5529.98it/s]\n",
      "[69, 69, 49, 64, 230, 70, 216, 25, 225, 75, 72, 71, 71, 63, 208, 77, 243, 64, 61, 76, 62, 24, 51, 70, 38, 233, 61, 71, 72, 55]\n",
      "********************\n",
      "rotation eval:\n",
      "TP: 459.0, FP: 1752.0, Total: 887\n",
      "Threshold:  0.5\n",
      "cls : normal_cell|| Recall: 0.5174746330129937 || Precison: 0.20759837177747625|| AP: 0.3200690547633131\n",
      "mAP is : 0.3200690547633131\n",
      "\n",
      "\n",
      "TP: 93.0, FP: 531.0, Total: 105\n",
      "Threshold:  0.5\n",
      "cls : mitoses|| Recall: 0.8857142772789117 || Precison: 0.14903846153846154|| AP: 0.6724644452697291\n",
      "mAP is : 0.4962667500165211\n",
      "\n",
      "\n",
      "TP: 337.0, FP: 1874.0, Total: 887\n",
      "Threshold:  0.55\n",
      "cls : normal_cell|| Recall: 0.3799323558287121 || Precison: 0.1524197195838987|| AP: 0.17173237829941723\n",
      "mAP is : 0.17173237829941723\n",
      "\n",
      "\n",
      "TP: 86.0, FP: 538.0, Total: 105\n",
      "Threshold:  0.55\n",
      "cls : mitoses|| Recall: 0.8190476112471656 || Precison: 0.13782051282051283|| AP: 0.5997543382489013\n",
      "mAP is : 0.3857433582741593\n",
      "\n",
      "\n",
      "TP: 214.0, FP: 1997.0, Total: 887\n",
      "Threshold:  0.6000000000000001\n",
      "cls : normal_cell|| Recall: 0.24126268292980532 || Precison: 0.09678878335594754|| AP: 0.0863148493735004\n",
      "mAP is : 0.0863148493735004\n",
      "\n",
      "\n",
      "TP: 70.0, FP: 554.0, Total: 105\n",
      "Threshold:  0.6000000000000001\n",
      "cls : mitoses|| Recall: 0.6666666603174604 || Precison: 0.11217948717948718|| AP: 0.432236767365565\n",
      "mAP is : 0.2592758083695327\n",
      "\n",
      "\n",
      "TP: 113.0, FP: 2098.0, Total: 887\n",
      "Threshold:  0.6500000000000001\n",
      "cls : normal_cell|| Recall: 0.1273957157526542 || Precison: 0.05110809588421529|| AP: 0.035290796160361376\n",
      "mAP is : 0.035290796160361376\n",
      "\n",
      "\n",
      "TP: 28.0, FP: 596.0, Total: 105\n",
      "Threshold:  0.6500000000000001\n",
      "cls : mitoses|| Recall: 0.26666666412698414 || Precison: 0.04487179487179487|| AP: 0.07978100331041509\n",
      "mAP is : 0.05753589973538823\n",
      "\n",
      "\n",
      "TP: 48.0, FP: 2163.0, Total: 887\n",
      "Threshold:  0.7000000000000002\n",
      "cls : normal_cell|| Recall: 0.05411499430201241 || Precison: 0.021709633649932156|| AP: 0.007905138339920948\n",
      "mAP is : 0.007905138339920948\n",
      "\n",
      "\n",
      "TP: 4.0, FP: 620.0, Total: 105\n",
      "Threshold:  0.7000000000000002\n",
      "cls : mitoses|| Recall: 0.03809523773242631 || Precison: 0.00641025641025641|| AP: 0.00267379679144385\n",
      "mAP is : 0.005289467565682399\n",
      "\n",
      "\n",
      "TP: 24.0, FP: 2187.0, Total: 887\n",
      "Threshold:  0.7500000000000002\n",
      "cls : normal_cell|| Recall: 0.027057497151006204 || Precison: 0.010854816824966078|| AP: 0.006269592476489028\n",
      "mAP is : 0.006269592476489028\n",
      "\n",
      "\n",
      "TP: 2.0, FP: 622.0, Total: 105\n",
      "Threshold:  0.7500000000000002\n",
      "cls : mitoses|| Recall: 0.019047618866213156 || Precison: 0.003205128205128205|| AP: 0.0017825311942959\n",
      "mAP is : 0.0040260618353924645\n",
      "\n",
      "\n",
      "TP: 14.0, FP: 2197.0, Total: 887\n",
      "Threshold:  0.8000000000000003\n",
      "cls : normal_cell|| Recall: 0.01578354000475362 || Precison: 0.006331976481230212|| AP: 0.005681818181818182\n",
      "mAP is : 0.005681818181818182\n",
      "\n",
      "\n",
      "TP: 1.0, FP: 623.0, Total: 105\n",
      "Threshold:  0.8000000000000003\n",
      "cls : mitoses|| Recall: 0.009523809433106578 || Precison: 0.0016025641025641025|| AP: 0.0009881422924901185\n",
      "mAP is : 0.00333498023715415\n",
      "\n",
      "\n",
      "TP: 5.0, FP: 2206.0, Total: 887\n",
      "Threshold:  0.8500000000000003\n",
      "cls : normal_cell|| Recall: 0.005636978573126293 || Precison: 0.002261420171867933|| AP: 0.0007905138339920949\n",
      "mAP is : 0.0007905138339920949\n",
      "\n",
      "\n",
      "TP: 1.0, FP: 623.0, Total: 105\n",
      "Threshold:  0.8500000000000003\n",
      "cls : mitoses|| Recall: 0.009523809433106578 || Precison: 0.0016025641025641025|| AP: 0.0009881422924901185\n",
      "mAP is : 0.0008893280632411067\n",
      "\n",
      "\n",
      "TP: 0.0, FP: 2211.0, Total: 887\n",
      "Threshold:  0.9000000000000004\n",
      "cls : normal_cell|| Recall: 0.0 || Precison: 0.0|| AP: 0.0\n",
      "mAP is : 0.0\n",
      "\n",
      "\n",
      "TP: 0.0, FP: 624.0, Total: 105\n",
      "Threshold:  0.9000000000000004\n",
      "cls : mitoses|| Recall: 0.0 || Precison: 0.0|| AP: 0.0\n",
      "mAP is : 0.0\n",
      "\n",
      "\n",
      "TP: 0.0, FP: 2211.0, Total: 887\n",
      "Threshold:  0.9500000000000004\n",
      "cls : normal_cell|| Recall: 0.0 || Precison: 0.0|| AP: 0.0\n",
      "mAP is : 0.0\n",
      "\n",
      "\n",
      "TP: 0.0, FP: 624.0, Total: 105\n",
      "Threshold:  0.9500000000000004\n",
      "cls : mitoses|| Recall: 0.0 || Precison: 0.0|| AP: 0.0\n",
      "mAP is : 0.0\n",
      "\n",
      "\n",
      "mAP50:95 :  0.12123616540970714\n",
      "\u001b[0m"
     ]
    }
   ],
   "source": [
    "%cd /workdir/msc/RotationDetection/tools/r2cnn\n",
    "!python test_ufrgscell.py --img_dir='/workdir/msc/datasets/UFRGS_CELL_2classes/test/imgs'  \\\n",
    "                          --gpu=0 \\\n",
    "                          --image_ext='.jpg' \\\n",
    "                          --test_annotation_path='/workdir/msc/datasets/UFRGS_CELL_2classes/test/xml_rotdet' \\\n",
    "                          none"
   ]
  },
  {
   "cell_type": "markdown",
   "metadata": {},
   "source": [
    "## Inference"
   ]
  },
  {
   "cell_type": "code",
   "execution_count": null,
   "metadata": {},
   "outputs": [],
   "source": [
    "import os\n",
    "import cv2\n",
    "from glob import glob\n",
    "import numpy as np\n",
    "import matplotlib.pyplot as plt\n",
    "\n",
    "path_labels = '/workdir/datasets/msc/UFRGS_CELL_2classes/test/annotations/dota_format'\n",
    "path_draws = '/workdir/msc/RotationDetection/tools/gwd/test_ufrgscell/RetinaNet_UFRGS_CELL_smooth_l1_loss/ufrgscell_img_vis'\n",
    "\n",
    "path_labels = sorted(glob(os.path.join(path_labels, '*.txt')))\n",
    "path_draws  = sorted(glob(os.path.join(path_draws, '*.jpg')))\n",
    "\n",
    "for i in range(len(path_labels)):\n",
    "    path_ann = path_labels[i]\n",
    "    path_img = path_draws[i]\n",
    "\n",
    "    img = cv2.imread(path_img)[:,:,::-1]\n",
    "    h,w,c = img.shape\n",
    "\n",
    "    labels = []\n",
    "    for lb in open(path_ann, 'r').read().split('\\n')[2:-1]:\n",
    "        lb = np.reshape(list(map(float, lb.split(' ')[:-2])), (-1,2))\n",
    "        labels.append(lb)\n",
    "    labels = np.int0(labels)\n",
    "\n",
    "    draw = np.copy(img)\n",
    "    cv2.drawContours(draw, labels, -1, (255,0,0), 2)\n",
    "\n",
    "    plt.figure(figsize=(15,15))\n",
    "    plt.imshow(draw)"
   ]
  },
  {
   "cell_type": "code",
   "execution_count": null,
   "metadata": {},
   "outputs": [],
   "source": [
    "%cd /workdir/msc/RotationDetection\n",
    "!python run_inference.py \\\n",
    "--img_dir='/workdir/datasets/msc/UFRGS_CELL_2classes/test/imgs'  \\\n",
    "--gpu=0 \\\n",
    "--image_ext='.jpg' \\\n",
    "--test_annotation_path='/workdir/datasets/msc/UFRGS_CELL_2classes/test/xml_rotdet' \\\n",
    "csl"
   ]
  },
  {
   "cell_type": "code",
   "execution_count": null,
   "metadata": {},
   "outputs": [],
   "source": []
  }
 ],
 "metadata": {
  "kernelspec": {
   "display_name": "Python 3",
   "language": "python",
   "name": "python3"
  },
  "language_info": {
   "codemirror_mode": {
    "name": "ipython",
    "version": 3
   },
   "file_extension": ".py",
   "mimetype": "text/x-python",
   "name": "python",
   "nbconvert_exporter": "python",
   "pygments_lexer": "ipython3",
   "version": "3.6.9"
  }
 },
 "nbformat": 4,
 "nbformat_minor": 4
}
